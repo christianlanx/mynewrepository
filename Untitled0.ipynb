{
  "nbformat": 4,
  "nbformat_minor": 0,
  "metadata": {
    "colab": {
      "name": "Untitled0.ipynb",
      "provenance": [],
      "include_colab_link": true
    },
    "kernelspec": {
      "name": "python3",
      "display_name": "Python 3"
    }
  },
  "cells": [
    {
      "cell_type": "markdown",
      "metadata": {
        "id": "view-in-github",
        "colab_type": "text"
      },
      "source": [
        "<a href=\"https://colab.research.google.com/github/christianlanx/mynewrepository/blob/master/Untitled0.ipynb\" target=\"_parent\"><img src=\"https://colab.research.google.com/assets/colab-badge.svg\" alt=\"Open In Colab\"/></a>"
      ]
    },
    {
      "cell_type": "code",
      "metadata": {
        "id": "DBXkK_3jKKMY",
        "colab_type": "code",
        "colab": {
          "base_uri": "https://localhost:8080/",
          "height": 207
        },
        "outputId": "d3eb2f6e-7265-4953-9f30-a3341329f3d0"
      },
      "source": [
        "!pip install simpleaudio"
      ],
      "execution_count": 1,
      "outputs": [
        {
          "output_type": "stream",
          "text": [
            "Collecting simpleaudio\n",
            "\u001b[?25l  Downloading https://files.pythonhosted.org/packages/ad/39/ce09ef827887cdfc755427195d7291446c1fb34a16356d1fec920d62269d/simpleaudio-1.0.2.tar.gz (2.0MB)\n",
            "\u001b[K     |████████████████████████████████| 2.0MB 2.8MB/s \n",
            "\u001b[?25hBuilding wheels for collected packages: simpleaudio\n",
            "  Building wheel for simpleaudio (setup.py) ... \u001b[?25l\u001b[?25hdone\n",
            "  Created wheel for simpleaudio: filename=simpleaudio-1.0.2-cp36-cp36m-linux_x86_64.whl size=2063875 sha256=5664a4887df405ca151a06cdca2543e9c40d53f6578950a961d286b26a0d8d3e\n",
            "  Stored in directory: /root/.cache/pip/wheels/6c/19/5e/8d9ca838b454227707ce995d53dfc1a4557bbdf89529ff81f2\n",
            "Successfully built simpleaudio\n",
            "Installing collected packages: simpleaudio\n",
            "Successfully installed simpleaudio-1.0.2\n"
          ],
          "name": "stdout"
        }
      ]
    },
    {
      "cell_type": "code",
      "metadata": {
        "id": "5gM8U4H-KUpc",
        "colab_type": "code",
        "colab": {}
      },
      "source": [
        "import numpy as np\n",
        "import matplotlib\n",
        "import matplotlib.pyplot as plt\n",
        "import scipy\n",
        "from scipy.io import wavfile as wav\n",
        "from scipy import signal as sig\n",
        "import simpleaudio as sa\n",
        "import decimal"
      ],
      "execution_count": 0,
      "outputs": []
    },
    {
      "cell_type": "code",
      "metadata": {
        "id": "h04JNClrKYlH",
        "colab_type": "code",
        "colab": {}
      },
      "source": [
        "fs = 8000\n",
        "t = np.arange(0,.25,1/fs)\n",
        "d0 = np.sin(2*np.pi*941*t)+np.sin(2*np.pi*1336*t)"
      ],
      "execution_count": 0,
      "outputs": []
    },
    {
      "cell_type": "code",
      "metadata": {
        "id": "fkMEmJTfLn0N",
        "colab_type": "code",
        "colab": {}
      },
      "source": [
        "#@title Default title text\n",
        "tones = np.concatenate([d0,np.zeros(int(0.5*fs)),d0]) * 50\n",
        "wav.write('tones.wav',fs,tones.astype('int16'))"
      ],
      "execution_count": 0,
      "outputs": []
    },
    {
      "cell_type": "code",
      "metadata": {
        "id": "pczlTio5LsWb",
        "colab_type": "code",
        "colab": {}
      },
      "source": [
        ""
      ],
      "execution_count": 0,
      "outputs": []
    }
  ]
}